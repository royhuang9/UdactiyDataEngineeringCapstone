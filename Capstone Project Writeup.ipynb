{
 "cells": [
  {
   "cell_type": "markdown",
   "metadata": {},
   "source": [
    "# Project Title\n",
    "### Data Engineering Capstone Project\n",
    "\n",
    "#### Project Summary\n",
    "This project is going to build a dataware with Spark. Internal customers and users can analyze immigration data to generate monthly immigration report or other business analysis. The main data source is I94 immigration data from US National Tourism and Trade Office. It also integrates weather data, City Demographic Data and Airport codes from different data sources.\n",
    "\n",
    "The project follows the follow steps:\n",
    "* Step 1: Scope the Project and Gather Data\n",
    "* Step 2: Explore and Assess the Data\n",
    "* Step 3: Define the Data Model\n",
    "* Step 4: Run ETL to Model the Data\n",
    "* Step 5: Complete Project Write Up"
   ]
  },
  {
   "cell_type": "code",
   "execution_count": 60,
   "metadata": {},
   "outputs": [],
   "source": [
    "# Do all imports and installs here\n",
    "import pandas as pd\n",
    "import os\n",
    "import configparser\n",
    "import boto3\n",
    "from datetime import datetime, timedelta\n",
    "from pyspark.sql import SparkSession\n",
    "from pyspark.sql import functions as F\n",
    "from pyspark.sql.types import IntegerType, LongType, FloatType, StringType, DateType\n",
    "from pyspark.sql.window import Window\n",
    "\n",
    "pd.set_option('display.max_rows', 500)\n",
    "pd.set_option('display.max_columns', 500)\n",
    "pd.set_option('display.width', 1000)"
   ]
  },
  {
   "cell_type": "code",
   "execution_count": 2,
   "metadata": {},
   "outputs": [],
   "source": [
    "# spark withou s3 and sas support\n",
    "spark = SparkSession.builder \\\n",
    "    .appName(\"ImmigrationDataLake\") \\\n",
    "    .getOrCreate()"
   ]
  },
  {
   "cell_type": "markdown",
   "metadata": {},
   "source": [
    "### Step 1: Scope the Project and Gather Data\n",
    "\n",
    "#### Scope \n",
    "This project will extract data from four data sources, transform and load them into a star schema model through Spark. The end solution is one fact table of immigration records and four dimentional tables: persons, cities, dates and transport. Only Apache Spark will be used and tables will be saved in parquet format, so there is no database needed here.\n",
    "\n",
    "#### Describe and Gather Data \n",
    "The data sources includes I94 Immigration data, world temperature data, U.S. City Demographic Data and Airport code.\n",
    "I94 Immigration data comes from US National Tourism and Trade Office, which keep track of the arrival and departure to/from the United States of people who are not United States citizens or lawful permanent residents.\n",
    "World temperature data is from Kaggle, "
   ]
  },
  {
   "cell_type": "markdown",
   "metadata": {},
   "source": [
    "### Read in the Immigration sample data"
   ]
  },
  {
   "cell_type": "code",
   "execution_count": 6,
   "metadata": {},
   "outputs": [],
   "source": [
    "im_df = pd.read_csv('immigration_data_sample.csv', index_col=0)"
   ]
  },
  {
   "cell_type": "code",
   "execution_count": 7,
   "metadata": {},
   "outputs": [
    {
     "data": {
      "text/html": [
       "<div>\n",
       "<style scoped>\n",
       "    .dataframe tbody tr th:only-of-type {\n",
       "        vertical-align: middle;\n",
       "    }\n",
       "\n",
       "    .dataframe tbody tr th {\n",
       "        vertical-align: top;\n",
       "    }\n",
       "\n",
       "    .dataframe thead th {\n",
       "        text-align: right;\n",
       "    }\n",
       "</style>\n",
       "<table border=\"1\" class=\"dataframe\">\n",
       "  <thead>\n",
       "    <tr style=\"text-align: right;\">\n",
       "      <th></th>\n",
       "      <th>cicid</th>\n",
       "      <th>i94yr</th>\n",
       "      <th>i94mon</th>\n",
       "      <th>i94cit</th>\n",
       "      <th>i94res</th>\n",
       "      <th>i94port</th>\n",
       "      <th>arrdate</th>\n",
       "      <th>i94mode</th>\n",
       "      <th>i94addr</th>\n",
       "      <th>depdate</th>\n",
       "      <th>i94bir</th>\n",
       "      <th>i94visa</th>\n",
       "      <th>count</th>\n",
       "      <th>dtadfile</th>\n",
       "      <th>visapost</th>\n",
       "      <th>occup</th>\n",
       "      <th>entdepa</th>\n",
       "      <th>entdepd</th>\n",
       "      <th>entdepu</th>\n",
       "      <th>matflag</th>\n",
       "      <th>biryear</th>\n",
       "      <th>dtaddto</th>\n",
       "      <th>gender</th>\n",
       "      <th>insnum</th>\n",
       "      <th>airline</th>\n",
       "      <th>admnum</th>\n",
       "      <th>fltno</th>\n",
       "      <th>visatype</th>\n",
       "    </tr>\n",
       "  </thead>\n",
       "  <tbody>\n",
       "    <tr>\n",
       "      <th>2027561</th>\n",
       "      <td>4084316.0</td>\n",
       "      <td>2016.0</td>\n",
       "      <td>4.0</td>\n",
       "      <td>209.0</td>\n",
       "      <td>209.0</td>\n",
       "      <td>HHW</td>\n",
       "      <td>20566.0</td>\n",
       "      <td>1.0</td>\n",
       "      <td>HI</td>\n",
       "      <td>20573.0</td>\n",
       "      <td>61.0</td>\n",
       "      <td>2.0</td>\n",
       "      <td>1.0</td>\n",
       "      <td>20160422</td>\n",
       "      <td>NaN</td>\n",
       "      <td>NaN</td>\n",
       "      <td>G</td>\n",
       "      <td>O</td>\n",
       "      <td>NaN</td>\n",
       "      <td>M</td>\n",
       "      <td>1955.0</td>\n",
       "      <td>07202016</td>\n",
       "      <td>F</td>\n",
       "      <td>NaN</td>\n",
       "      <td>JL</td>\n",
       "      <td>5.658267e+10</td>\n",
       "      <td>00782</td>\n",
       "      <td>WT</td>\n",
       "    </tr>\n",
       "    <tr>\n",
       "      <th>2171295</th>\n",
       "      <td>4422636.0</td>\n",
       "      <td>2016.0</td>\n",
       "      <td>4.0</td>\n",
       "      <td>582.0</td>\n",
       "      <td>582.0</td>\n",
       "      <td>MCA</td>\n",
       "      <td>20567.0</td>\n",
       "      <td>1.0</td>\n",
       "      <td>TX</td>\n",
       "      <td>20568.0</td>\n",
       "      <td>26.0</td>\n",
       "      <td>2.0</td>\n",
       "      <td>1.0</td>\n",
       "      <td>20160423</td>\n",
       "      <td>MTR</td>\n",
       "      <td>NaN</td>\n",
       "      <td>G</td>\n",
       "      <td>R</td>\n",
       "      <td>NaN</td>\n",
       "      <td>M</td>\n",
       "      <td>1990.0</td>\n",
       "      <td>10222016</td>\n",
       "      <td>M</td>\n",
       "      <td>NaN</td>\n",
       "      <td>*GA</td>\n",
       "      <td>9.436200e+10</td>\n",
       "      <td>XBLNG</td>\n",
       "      <td>B2</td>\n",
       "    </tr>\n",
       "    <tr>\n",
       "      <th>589494</th>\n",
       "      <td>1195600.0</td>\n",
       "      <td>2016.0</td>\n",
       "      <td>4.0</td>\n",
       "      <td>148.0</td>\n",
       "      <td>112.0</td>\n",
       "      <td>OGG</td>\n",
       "      <td>20551.0</td>\n",
       "      <td>1.0</td>\n",
       "      <td>FL</td>\n",
       "      <td>20571.0</td>\n",
       "      <td>76.0</td>\n",
       "      <td>2.0</td>\n",
       "      <td>1.0</td>\n",
       "      <td>20160407</td>\n",
       "      <td>NaN</td>\n",
       "      <td>NaN</td>\n",
       "      <td>G</td>\n",
       "      <td>O</td>\n",
       "      <td>NaN</td>\n",
       "      <td>M</td>\n",
       "      <td>1940.0</td>\n",
       "      <td>07052016</td>\n",
       "      <td>M</td>\n",
       "      <td>NaN</td>\n",
       "      <td>LH</td>\n",
       "      <td>5.578047e+10</td>\n",
       "      <td>00464</td>\n",
       "      <td>WT</td>\n",
       "    </tr>\n",
       "    <tr>\n",
       "      <th>2631158</th>\n",
       "      <td>5291768.0</td>\n",
       "      <td>2016.0</td>\n",
       "      <td>4.0</td>\n",
       "      <td>297.0</td>\n",
       "      <td>297.0</td>\n",
       "      <td>LOS</td>\n",
       "      <td>20572.0</td>\n",
       "      <td>1.0</td>\n",
       "      <td>CA</td>\n",
       "      <td>20581.0</td>\n",
       "      <td>25.0</td>\n",
       "      <td>2.0</td>\n",
       "      <td>1.0</td>\n",
       "      <td>20160428</td>\n",
       "      <td>DOH</td>\n",
       "      <td>NaN</td>\n",
       "      <td>G</td>\n",
       "      <td>O</td>\n",
       "      <td>NaN</td>\n",
       "      <td>M</td>\n",
       "      <td>1991.0</td>\n",
       "      <td>10272016</td>\n",
       "      <td>M</td>\n",
       "      <td>NaN</td>\n",
       "      <td>QR</td>\n",
       "      <td>9.478970e+10</td>\n",
       "      <td>00739</td>\n",
       "      <td>B2</td>\n",
       "    </tr>\n",
       "    <tr>\n",
       "      <th>3032257</th>\n",
       "      <td>985523.0</td>\n",
       "      <td>2016.0</td>\n",
       "      <td>4.0</td>\n",
       "      <td>111.0</td>\n",
       "      <td>111.0</td>\n",
       "      <td>CHM</td>\n",
       "      <td>20550.0</td>\n",
       "      <td>3.0</td>\n",
       "      <td>NY</td>\n",
       "      <td>20553.0</td>\n",
       "      <td>19.0</td>\n",
       "      <td>2.0</td>\n",
       "      <td>1.0</td>\n",
       "      <td>20160406</td>\n",
       "      <td>NaN</td>\n",
       "      <td>NaN</td>\n",
       "      <td>Z</td>\n",
       "      <td>K</td>\n",
       "      <td>NaN</td>\n",
       "      <td>M</td>\n",
       "      <td>1997.0</td>\n",
       "      <td>07042016</td>\n",
       "      <td>F</td>\n",
       "      <td>NaN</td>\n",
       "      <td>NaN</td>\n",
       "      <td>4.232257e+10</td>\n",
       "      <td>LAND</td>\n",
       "      <td>WT</td>\n",
       "    </tr>\n",
       "  </tbody>\n",
       "</table>\n",
       "</div>"
      ],
      "text/plain": [
       "             cicid   i94yr  i94mon  i94cit  i94res i94port  arrdate  i94mode i94addr  depdate  i94bir  i94visa  count  dtadfile visapost occup entdepa entdepd  entdepu matflag  biryear   dtaddto gender  insnum airline        admnum  fltno visatype\n",
       "2027561  4084316.0  2016.0     4.0   209.0   209.0     HHW  20566.0      1.0      HI  20573.0    61.0      2.0    1.0  20160422      NaN   NaN       G       O      NaN       M   1955.0  07202016      F     NaN      JL  5.658267e+10  00782       WT\n",
       "2171295  4422636.0  2016.0     4.0   582.0   582.0     MCA  20567.0      1.0      TX  20568.0    26.0      2.0    1.0  20160423      MTR   NaN       G       R      NaN       M   1990.0  10222016      M     NaN     *GA  9.436200e+10  XBLNG       B2\n",
       "589494   1195600.0  2016.0     4.0   148.0   112.0     OGG  20551.0      1.0      FL  20571.0    76.0      2.0    1.0  20160407      NaN   NaN       G       O      NaN       M   1940.0  07052016      M     NaN      LH  5.578047e+10  00464       WT\n",
       "2631158  5291768.0  2016.0     4.0   297.0   297.0     LOS  20572.0      1.0      CA  20581.0    25.0      2.0    1.0  20160428      DOH   NaN       G       O      NaN       M   1991.0  10272016      M     NaN      QR  9.478970e+10  00739       B2\n",
       "3032257   985523.0  2016.0     4.0   111.0   111.0     CHM  20550.0      3.0      NY  20553.0    19.0      2.0    1.0  20160406      NaN   NaN       Z       K      NaN       M   1997.0  07042016      F     NaN     NaN  4.232257e+10   LAND       WT"
      ]
     },
     "execution_count": 7,
     "metadata": {},
     "output_type": "execute_result"
    }
   ],
   "source": [
    "im_df.head()"
   ]
  },
  {
   "cell_type": "markdown",
   "metadata": {},
   "source": [
    "#### Read in Weather data"
   ]
  },
  {
   "cell_type": "code",
   "execution_count": 15,
   "metadata": {},
   "outputs": [],
   "source": [
    "weather_df = pd.read_csv(\"../../data2/GlobalLandTemperaturesByCity.csv\")"
   ]
  },
  {
   "cell_type": "code",
   "execution_count": 9,
   "metadata": {},
   "outputs": [
    {
     "data": {
      "text/plain": [
       "(8599212, 7)"
      ]
     },
     "execution_count": 9,
     "metadata": {},
     "output_type": "execute_result"
    }
   ],
   "source": [
    "weather_df.count()"
   ]
  },
  {
   "cell_type": "code",
   "execution_count": 10,
   "metadata": {},
   "outputs": [
    {
     "data": {
      "text/html": [
       "<div>\n",
       "<style scoped>\n",
       "    .dataframe tbody tr th:only-of-type {\n",
       "        vertical-align: middle;\n",
       "    }\n",
       "\n",
       "    .dataframe tbody tr th {\n",
       "        vertical-align: top;\n",
       "    }\n",
       "\n",
       "    .dataframe thead th {\n",
       "        text-align: right;\n",
       "    }\n",
       "</style>\n",
       "<table border=\"1\" class=\"dataframe\">\n",
       "  <thead>\n",
       "    <tr style=\"text-align: right;\">\n",
       "      <th></th>\n",
       "      <th>dt</th>\n",
       "      <th>AverageTemperature</th>\n",
       "      <th>AverageTemperatureUncertainty</th>\n",
       "      <th>City</th>\n",
       "      <th>Country</th>\n",
       "      <th>Latitude</th>\n",
       "      <th>Longitude</th>\n",
       "    </tr>\n",
       "  </thead>\n",
       "  <tbody>\n",
       "    <tr>\n",
       "      <th>0</th>\n",
       "      <td>1743-11-01</td>\n",
       "      <td>6.068</td>\n",
       "      <td>1.737</td>\n",
       "      <td>Århus</td>\n",
       "      <td>Denmark</td>\n",
       "      <td>57.05N</td>\n",
       "      <td>10.33E</td>\n",
       "    </tr>\n",
       "    <tr>\n",
       "      <th>1</th>\n",
       "      <td>1743-12-01</td>\n",
       "      <td>NaN</td>\n",
       "      <td>NaN</td>\n",
       "      <td>Århus</td>\n",
       "      <td>Denmark</td>\n",
       "      <td>57.05N</td>\n",
       "      <td>10.33E</td>\n",
       "    </tr>\n",
       "    <tr>\n",
       "      <th>2</th>\n",
       "      <td>1744-01-01</td>\n",
       "      <td>NaN</td>\n",
       "      <td>NaN</td>\n",
       "      <td>Århus</td>\n",
       "      <td>Denmark</td>\n",
       "      <td>57.05N</td>\n",
       "      <td>10.33E</td>\n",
       "    </tr>\n",
       "    <tr>\n",
       "      <th>3</th>\n",
       "      <td>1744-02-01</td>\n",
       "      <td>NaN</td>\n",
       "      <td>NaN</td>\n",
       "      <td>Århus</td>\n",
       "      <td>Denmark</td>\n",
       "      <td>57.05N</td>\n",
       "      <td>10.33E</td>\n",
       "    </tr>\n",
       "    <tr>\n",
       "      <th>4</th>\n",
       "      <td>1744-03-01</td>\n",
       "      <td>NaN</td>\n",
       "      <td>NaN</td>\n",
       "      <td>Århus</td>\n",
       "      <td>Denmark</td>\n",
       "      <td>57.05N</td>\n",
       "      <td>10.33E</td>\n",
       "    </tr>\n",
       "  </tbody>\n",
       "</table>\n",
       "</div>"
      ],
      "text/plain": [
       "           dt  AverageTemperature  AverageTemperatureUncertainty   City  Country Latitude Longitude\n",
       "0  1743-11-01               6.068                          1.737  Århus  Denmark   57.05N    10.33E\n",
       "1  1743-12-01                 NaN                            NaN  Århus  Denmark   57.05N    10.33E\n",
       "2  1744-01-01                 NaN                            NaN  Århus  Denmark   57.05N    10.33E\n",
       "3  1744-02-01                 NaN                            NaN  Århus  Denmark   57.05N    10.33E\n",
       "4  1744-03-01                 NaN                            NaN  Århus  Denmark   57.05N    10.33E"
      ]
     },
     "execution_count": 10,
     "metadata": {},
     "output_type": "execute_result"
    }
   ],
   "source": [
    "weather_df.show(n=5)"
   ]
  },
  {
   "cell_type": "markdown",
   "metadata": {},
   "source": [
    "#### Read in city demographics"
   ]
  },
  {
   "cell_type": "code",
   "execution_count": 11,
   "metadata": {},
   "outputs": [
    {
     "name": "stdout",
     "output_type": "stream",
     "text": [
      "(2891, 12)\n"
     ]
    },
    {
     "data": {
      "text/html": [
       "<div>\n",
       "<style scoped>\n",
       "    .dataframe tbody tr th:only-of-type {\n",
       "        vertical-align: middle;\n",
       "    }\n",
       "\n",
       "    .dataframe tbody tr th {\n",
       "        vertical-align: top;\n",
       "    }\n",
       "\n",
       "    .dataframe thead th {\n",
       "        text-align: right;\n",
       "    }\n",
       "</style>\n",
       "<table border=\"1\" class=\"dataframe\">\n",
       "  <thead>\n",
       "    <tr style=\"text-align: right;\">\n",
       "      <th></th>\n",
       "      <th>City</th>\n",
       "      <th>State</th>\n",
       "      <th>Median Age</th>\n",
       "      <th>Male Population</th>\n",
       "      <th>Female Population</th>\n",
       "      <th>Total Population</th>\n",
       "      <th>Number of Veterans</th>\n",
       "      <th>Foreign-born</th>\n",
       "      <th>Average Household Size</th>\n",
       "      <th>State Code</th>\n",
       "      <th>Race</th>\n",
       "      <th>Count</th>\n",
       "    </tr>\n",
       "  </thead>\n",
       "  <tbody>\n",
       "    <tr>\n",
       "      <th>0</th>\n",
       "      <td>Silver Spring</td>\n",
       "      <td>Maryland</td>\n",
       "      <td>33.8</td>\n",
       "      <td>40601.0</td>\n",
       "      <td>41862.0</td>\n",
       "      <td>82463</td>\n",
       "      <td>1562.0</td>\n",
       "      <td>30908.0</td>\n",
       "      <td>2.60</td>\n",
       "      <td>MD</td>\n",
       "      <td>Hispanic or Latino</td>\n",
       "      <td>25924</td>\n",
       "    </tr>\n",
       "    <tr>\n",
       "      <th>1</th>\n",
       "      <td>Quincy</td>\n",
       "      <td>Massachusetts</td>\n",
       "      <td>41.0</td>\n",
       "      <td>44129.0</td>\n",
       "      <td>49500.0</td>\n",
       "      <td>93629</td>\n",
       "      <td>4147.0</td>\n",
       "      <td>32935.0</td>\n",
       "      <td>2.39</td>\n",
       "      <td>MA</td>\n",
       "      <td>White</td>\n",
       "      <td>58723</td>\n",
       "    </tr>\n",
       "    <tr>\n",
       "      <th>2</th>\n",
       "      <td>Hoover</td>\n",
       "      <td>Alabama</td>\n",
       "      <td>38.5</td>\n",
       "      <td>38040.0</td>\n",
       "      <td>46799.0</td>\n",
       "      <td>84839</td>\n",
       "      <td>4819.0</td>\n",
       "      <td>8229.0</td>\n",
       "      <td>2.58</td>\n",
       "      <td>AL</td>\n",
       "      <td>Asian</td>\n",
       "      <td>4759</td>\n",
       "    </tr>\n",
       "    <tr>\n",
       "      <th>3</th>\n",
       "      <td>Rancho Cucamonga</td>\n",
       "      <td>California</td>\n",
       "      <td>34.5</td>\n",
       "      <td>88127.0</td>\n",
       "      <td>87105.0</td>\n",
       "      <td>175232</td>\n",
       "      <td>5821.0</td>\n",
       "      <td>33878.0</td>\n",
       "      <td>3.18</td>\n",
       "      <td>CA</td>\n",
       "      <td>Black or African-American</td>\n",
       "      <td>24437</td>\n",
       "    </tr>\n",
       "    <tr>\n",
       "      <th>4</th>\n",
       "      <td>Newark</td>\n",
       "      <td>New Jersey</td>\n",
       "      <td>34.6</td>\n",
       "      <td>138040.0</td>\n",
       "      <td>143873.0</td>\n",
       "      <td>281913</td>\n",
       "      <td>5829.0</td>\n",
       "      <td>86253.0</td>\n",
       "      <td>2.73</td>\n",
       "      <td>NJ</td>\n",
       "      <td>White</td>\n",
       "      <td>76402</td>\n",
       "    </tr>\n",
       "  </tbody>\n",
       "</table>\n",
       "</div>"
      ],
      "text/plain": [
       "               City          State  Median Age  Male Population  Female Population  Total Population  Number of Veterans  Foreign-born  Average Household Size State Code                       Race  Count\n",
       "0     Silver Spring       Maryland        33.8          40601.0            41862.0             82463              1562.0       30908.0                    2.60         MD         Hispanic or Latino  25924\n",
       "1            Quincy  Massachusetts        41.0          44129.0            49500.0             93629              4147.0       32935.0                    2.39         MA                      White  58723\n",
       "2            Hoover        Alabama        38.5          38040.0            46799.0             84839              4819.0        8229.0                    2.58         AL                      Asian   4759\n",
       "3  Rancho Cucamonga     California        34.5          88127.0            87105.0            175232              5821.0       33878.0                    3.18         CA  Black or African-American  24437\n",
       "4            Newark     New Jersey        34.6         138040.0           143873.0            281913              5829.0       86253.0                    2.73         NJ                      White  76402"
      ]
     },
     "execution_count": 11,
     "metadata": {},
     "output_type": "execute_result"
    }
   ],
   "source": [
    "demo_df = pd.read_csv(\"./us-cities-demographics.csv\", sep=\";\")\n",
    "print(demo_df.shape)\n",
    "demo_df.head()"
   ]
  },
  {
   "cell_type": "markdown",
   "metadata": {},
   "source": [
    "### Step 2: Explore and Assess the Data\n",
    "#### Explore the Data \n",
    "Identify data quality issues, like missing values, duplicate data, etc.\n",
    "\n",
    "#### Cleaning Steps\n",
    "Document steps necessary to clean the data"
   ]
  },
  {
   "cell_type": "markdown",
   "metadata": {},
   "source": [
    "#### i94 immigration data cleaning\n",
    "- First, the data types of columns are casted to correct ones. All values are recognized as double float.\n",
    "- Columns with almost none values like occup, entdepu, insnum are dropped\n",
    "- SAS dates are converted to date format"
   ]
  },
  {
   "cell_type": "code",
   "execution_count": 3,
   "metadata": {},
   "outputs": [
    {
     "data": {
      "text/html": [
       "<div>\n",
       "<style scoped>\n",
       "    .dataframe tbody tr th:only-of-type {\n",
       "        vertical-align: middle;\n",
       "    }\n",
       "\n",
       "    .dataframe tbody tr th {\n",
       "        vertical-align: top;\n",
       "    }\n",
       "\n",
       "    .dataframe thead th {\n",
       "        text-align: right;\n",
       "    }\n",
       "</style>\n",
       "<table border=\"1\" class=\"dataframe\">\n",
       "  <thead>\n",
       "    <tr style=\"text-align: right;\">\n",
       "      <th></th>\n",
       "      <th>cicid</th>\n",
       "      <th>i94cit</th>\n",
       "      <th>i94res</th>\n",
       "      <th>i94port</th>\n",
       "      <th>arrdate</th>\n",
       "      <th>i94mode</th>\n",
       "      <th>i94addr</th>\n",
       "      <th>depdate</th>\n",
       "      <th>i94bir</th>\n",
       "      <th>i94visa</th>\n",
       "      <th>count</th>\n",
       "      <th>dtadfile</th>\n",
       "      <th>visapost</th>\n",
       "      <th>occup</th>\n",
       "      <th>entdepa</th>\n",
       "      <th>entdepd</th>\n",
       "      <th>entdepu</th>\n",
       "      <th>matflag</th>\n",
       "      <th>biryear</th>\n",
       "      <th>dtaddto</th>\n",
       "      <th>gender</th>\n",
       "      <th>insnum</th>\n",
       "      <th>airline</th>\n",
       "      <th>admnum</th>\n",
       "      <th>fltno</th>\n",
       "      <th>visatype</th>\n",
       "    </tr>\n",
       "  </thead>\n",
       "  <tbody>\n",
       "    <tr>\n",
       "      <th>0</th>\n",
       "      <td>5748517.0</td>\n",
       "      <td>245.0</td>\n",
       "      <td>438.0</td>\n",
       "      <td>LOS</td>\n",
       "      <td>20574.0</td>\n",
       "      <td>1.0</td>\n",
       "      <td>CA</td>\n",
       "      <td>20582.0</td>\n",
       "      <td>40.0</td>\n",
       "      <td>1.0</td>\n",
       "      <td>1.0</td>\n",
       "      <td>20160430</td>\n",
       "      <td>SYD</td>\n",
       "      <td>None</td>\n",
       "      <td>G</td>\n",
       "      <td>O</td>\n",
       "      <td>None</td>\n",
       "      <td>M</td>\n",
       "      <td>1976.0</td>\n",
       "      <td>10292016</td>\n",
       "      <td>F</td>\n",
       "      <td>None</td>\n",
       "      <td>QF</td>\n",
       "      <td>9.495387e+10</td>\n",
       "      <td>00011</td>\n",
       "      <td>B1</td>\n",
       "    </tr>\n",
       "    <tr>\n",
       "      <th>1</th>\n",
       "      <td>5748518.0</td>\n",
       "      <td>245.0</td>\n",
       "      <td>438.0</td>\n",
       "      <td>LOS</td>\n",
       "      <td>20574.0</td>\n",
       "      <td>1.0</td>\n",
       "      <td>NV</td>\n",
       "      <td>20591.0</td>\n",
       "      <td>32.0</td>\n",
       "      <td>1.0</td>\n",
       "      <td>1.0</td>\n",
       "      <td>20160430</td>\n",
       "      <td>SYD</td>\n",
       "      <td>None</td>\n",
       "      <td>G</td>\n",
       "      <td>O</td>\n",
       "      <td>None</td>\n",
       "      <td>M</td>\n",
       "      <td>1984.0</td>\n",
       "      <td>10292016</td>\n",
       "      <td>F</td>\n",
       "      <td>None</td>\n",
       "      <td>VA</td>\n",
       "      <td>9.495562e+10</td>\n",
       "      <td>00007</td>\n",
       "      <td>B1</td>\n",
       "    </tr>\n",
       "    <tr>\n",
       "      <th>2</th>\n",
       "      <td>5748519.0</td>\n",
       "      <td>245.0</td>\n",
       "      <td>438.0</td>\n",
       "      <td>LOS</td>\n",
       "      <td>20574.0</td>\n",
       "      <td>1.0</td>\n",
       "      <td>WA</td>\n",
       "      <td>20582.0</td>\n",
       "      <td>29.0</td>\n",
       "      <td>1.0</td>\n",
       "      <td>1.0</td>\n",
       "      <td>20160430</td>\n",
       "      <td>SYD</td>\n",
       "      <td>None</td>\n",
       "      <td>G</td>\n",
       "      <td>O</td>\n",
       "      <td>None</td>\n",
       "      <td>M</td>\n",
       "      <td>1987.0</td>\n",
       "      <td>10292016</td>\n",
       "      <td>M</td>\n",
       "      <td>None</td>\n",
       "      <td>DL</td>\n",
       "      <td>9.495641e+10</td>\n",
       "      <td>00040</td>\n",
       "      <td>B1</td>\n",
       "    </tr>\n",
       "    <tr>\n",
       "      <th>3</th>\n",
       "      <td>5748520.0</td>\n",
       "      <td>245.0</td>\n",
       "      <td>438.0</td>\n",
       "      <td>LOS</td>\n",
       "      <td>20574.0</td>\n",
       "      <td>1.0</td>\n",
       "      <td>WA</td>\n",
       "      <td>20588.0</td>\n",
       "      <td>29.0</td>\n",
       "      <td>1.0</td>\n",
       "      <td>1.0</td>\n",
       "      <td>20160430</td>\n",
       "      <td>SYD</td>\n",
       "      <td>None</td>\n",
       "      <td>G</td>\n",
       "      <td>O</td>\n",
       "      <td>None</td>\n",
       "      <td>M</td>\n",
       "      <td>1987.0</td>\n",
       "      <td>10292016</td>\n",
       "      <td>F</td>\n",
       "      <td>None</td>\n",
       "      <td>DL</td>\n",
       "      <td>9.495645e+10</td>\n",
       "      <td>00040</td>\n",
       "      <td>B1</td>\n",
       "    </tr>\n",
       "    <tr>\n",
       "      <th>4</th>\n",
       "      <td>5748521.0</td>\n",
       "      <td>245.0</td>\n",
       "      <td>438.0</td>\n",
       "      <td>LOS</td>\n",
       "      <td>20574.0</td>\n",
       "      <td>1.0</td>\n",
       "      <td>WA</td>\n",
       "      <td>20588.0</td>\n",
       "      <td>28.0</td>\n",
       "      <td>1.0</td>\n",
       "      <td>1.0</td>\n",
       "      <td>20160430</td>\n",
       "      <td>SYD</td>\n",
       "      <td>None</td>\n",
       "      <td>G</td>\n",
       "      <td>O</td>\n",
       "      <td>None</td>\n",
       "      <td>M</td>\n",
       "      <td>1988.0</td>\n",
       "      <td>10292016</td>\n",
       "      <td>M</td>\n",
       "      <td>None</td>\n",
       "      <td>DL</td>\n",
       "      <td>9.495639e+10</td>\n",
       "      <td>00040</td>\n",
       "      <td>B1</td>\n",
       "    </tr>\n",
       "  </tbody>\n",
       "</table>\n",
       "</div>"
      ],
      "text/plain": [
       "       cicid  i94cit  i94res i94port  arrdate  i94mode i94addr  depdate  i94bir  i94visa  count  dtadfile visapost occup entdepa entdepd entdepu matflag  biryear   dtaddto gender insnum airline        admnum  fltno visatype\n",
       "0  5748517.0   245.0   438.0     LOS  20574.0      1.0      CA  20582.0    40.0      1.0    1.0  20160430      SYD  None       G       O    None       M   1976.0  10292016      F   None      QF  9.495387e+10  00011       B1\n",
       "1  5748518.0   245.0   438.0     LOS  20574.0      1.0      NV  20591.0    32.0      1.0    1.0  20160430      SYD  None       G       O    None       M   1984.0  10292016      F   None      VA  9.495562e+10  00007       B1\n",
       "2  5748519.0   245.0   438.0     LOS  20574.0      1.0      WA  20582.0    29.0      1.0    1.0  20160430      SYD  None       G       O    None       M   1987.0  10292016      M   None      DL  9.495641e+10  00040       B1\n",
       "3  5748520.0   245.0   438.0     LOS  20574.0      1.0      WA  20588.0    29.0      1.0    1.0  20160430      SYD  None       G       O    None       M   1987.0  10292016      F   None      DL  9.495645e+10  00040       B1\n",
       "4  5748521.0   245.0   438.0     LOS  20574.0      1.0      WA  20588.0    28.0      1.0    1.0  20160430      SYD  None       G       O    None       M   1988.0  10292016      M   None      DL  9.495639e+10  00040       B1"
      ]
     },
     "execution_count": 3,
     "metadata": {},
     "output_type": "execute_result"
    }
   ],
   "source": [
    "imm_df = spark.read.parquet('./sas_data/{}/{}'.format(\"i94yr=2016\", \"i94mon=4\"))\n",
    "imm_df.limit(5).toPandas()"
   ]
  },
  {
   "cell_type": "code",
   "execution_count": 4,
   "metadata": {},
   "outputs": [
    {
     "name": "stdout",
     "output_type": "stream",
     "text": [
      "root\n",
      " |-- cicid: double (nullable = true)\n",
      " |-- i94cit: double (nullable = true)\n",
      " |-- i94res: double (nullable = true)\n",
      " |-- i94port: string (nullable = true)\n",
      " |-- arrdate: double (nullable = true)\n",
      " |-- i94mode: double (nullable = true)\n",
      " |-- i94addr: string (nullable = true)\n",
      " |-- depdate: double (nullable = true)\n",
      " |-- i94bir: double (nullable = true)\n",
      " |-- i94visa: double (nullable = true)\n",
      " |-- count: double (nullable = true)\n",
      " |-- dtadfile: string (nullable = true)\n",
      " |-- visapost: string (nullable = true)\n",
      " |-- occup: string (nullable = true)\n",
      " |-- entdepa: string (nullable = true)\n",
      " |-- entdepd: string (nullable = true)\n",
      " |-- entdepu: string (nullable = true)\n",
      " |-- matflag: string (nullable = true)\n",
      " |-- biryear: double (nullable = true)\n",
      " |-- dtaddto: string (nullable = true)\n",
      " |-- gender: string (nullable = true)\n",
      " |-- insnum: string (nullable = true)\n",
      " |-- airline: string (nullable = true)\n",
      " |-- admnum: double (nullable = true)\n",
      " |-- fltno: string (nullable = true)\n",
      " |-- visatype: string (nullable = true)\n",
      "\n"
     ]
    }
   ],
   "source": [
    "imm_df.printSchema()"
   ]
  },
  {
   "cell_type": "code",
   "execution_count": 6,
   "metadata": {},
   "outputs": [],
   "source": [
    "@F.udf(DateType())\n",
    "def sasToDate(x):\n",
    "    try:\n",
    "        start = datetime(1960, 1, 1)\n",
    "        return start + timedelta(days=int(x))\n",
    "    except:\n",
    "        return None\n",
    "\n",
    "@F.udf(DateType())\n",
    "def strToDate(x):\n",
    "    try:\n",
    "        return datetime.strptime(x, '%m%d%Y')\n",
    "    except:\n",
    "        return None"
   ]
  },
  {
   "cell_type": "code",
   "execution_count": 7,
   "metadata": {},
   "outputs": [],
   "source": [
    "# select relevant columns and convert them to correct data types\n",
    "# convert country code to country\n",
    "\n",
    "imm_df = imm_df.select(F.col('cicid').cast(LongType()),\n",
    "              F.col('i94cit').cast(IntegerType()),\n",
    "              F.col('i94res').cast(IntegerType()),\n",
    "              F.col('i94port'),\n",
    "              F.col('i94addr'),\n",
    "              sasToDate('arrdate').alias('arrdate'),\n",
    "              sasToDate('depdate').alias('depdate'),\n",
    "              strToDate('dtaddto').alias('dtaddto'),\n",
    "              F.col('biryear').cast(IntegerType()),\n",
    "              F.col('i94bir').cast(IntegerType()),\n",
    "              F.col('gender'),\n",
    "              F.col('i94visa').cast(IntegerType()),\n",
    "              F.col('visatype'),\n",
    "              F.col('i94mode').cast(IntegerType()),\n",
    "              F.col('airline'),\n",
    "              F.col('fltno'),\n",
    "              F.col('entdepa'),\n",
    "              F.col('entdepd'),\n",
    "              F.col('matflag'),\n",
    "              F.col('admnum').cast(LongType()),\n",
    "              F.col('count').cast(IntegerType())\n",
    "             )"
   ]
  },
  {
   "cell_type": "code",
   "execution_count": 8,
   "metadata": {},
   "outputs": [
    {
     "data": {
      "text/html": [
       "<div>\n",
       "<style scoped>\n",
       "    .dataframe tbody tr th:only-of-type {\n",
       "        vertical-align: middle;\n",
       "    }\n",
       "\n",
       "    .dataframe tbody tr th {\n",
       "        vertical-align: top;\n",
       "    }\n",
       "\n",
       "    .dataframe thead th {\n",
       "        text-align: right;\n",
       "    }\n",
       "</style>\n",
       "<table border=\"1\" class=\"dataframe\">\n",
       "  <thead>\n",
       "    <tr style=\"text-align: right;\">\n",
       "      <th></th>\n",
       "      <th>cicid</th>\n",
       "      <th>i94cit</th>\n",
       "      <th>i94res</th>\n",
       "      <th>i94port</th>\n",
       "      <th>i94addr</th>\n",
       "      <th>arrdate</th>\n",
       "      <th>depdate</th>\n",
       "      <th>dtaddto</th>\n",
       "      <th>biryear</th>\n",
       "      <th>i94bir</th>\n",
       "      <th>gender</th>\n",
       "      <th>i94visa</th>\n",
       "      <th>visatype</th>\n",
       "      <th>i94mode</th>\n",
       "      <th>airline</th>\n",
       "      <th>fltno</th>\n",
       "      <th>entdepa</th>\n",
       "      <th>entdepd</th>\n",
       "      <th>matflag</th>\n",
       "      <th>admnum</th>\n",
       "      <th>count</th>\n",
       "    </tr>\n",
       "  </thead>\n",
       "  <tbody>\n",
       "    <tr>\n",
       "      <th>0</th>\n",
       "      <td>5748517</td>\n",
       "      <td>245</td>\n",
       "      <td>438</td>\n",
       "      <td>LOS</td>\n",
       "      <td>CA</td>\n",
       "      <td>2016-04-30</td>\n",
       "      <td>2016-05-08</td>\n",
       "      <td>2016-10-29</td>\n",
       "      <td>1976</td>\n",
       "      <td>40</td>\n",
       "      <td>F</td>\n",
       "      <td>1</td>\n",
       "      <td>B1</td>\n",
       "      <td>1</td>\n",
       "      <td>QF</td>\n",
       "      <td>00011</td>\n",
       "      <td>G</td>\n",
       "      <td>O</td>\n",
       "      <td>M</td>\n",
       "      <td>94953870030</td>\n",
       "      <td>1</td>\n",
       "    </tr>\n",
       "    <tr>\n",
       "      <th>1</th>\n",
       "      <td>5748518</td>\n",
       "      <td>245</td>\n",
       "      <td>438</td>\n",
       "      <td>LOS</td>\n",
       "      <td>NV</td>\n",
       "      <td>2016-04-30</td>\n",
       "      <td>2016-05-17</td>\n",
       "      <td>2016-10-29</td>\n",
       "      <td>1984</td>\n",
       "      <td>32</td>\n",
       "      <td>F</td>\n",
       "      <td>1</td>\n",
       "      <td>B1</td>\n",
       "      <td>1</td>\n",
       "      <td>VA</td>\n",
       "      <td>00007</td>\n",
       "      <td>G</td>\n",
       "      <td>O</td>\n",
       "      <td>M</td>\n",
       "      <td>94955622830</td>\n",
       "      <td>1</td>\n",
       "    </tr>\n",
       "    <tr>\n",
       "      <th>2</th>\n",
       "      <td>5748519</td>\n",
       "      <td>245</td>\n",
       "      <td>438</td>\n",
       "      <td>LOS</td>\n",
       "      <td>WA</td>\n",
       "      <td>2016-04-30</td>\n",
       "      <td>2016-05-08</td>\n",
       "      <td>2016-10-29</td>\n",
       "      <td>1987</td>\n",
       "      <td>29</td>\n",
       "      <td>M</td>\n",
       "      <td>1</td>\n",
       "      <td>B1</td>\n",
       "      <td>1</td>\n",
       "      <td>DL</td>\n",
       "      <td>00040</td>\n",
       "      <td>G</td>\n",
       "      <td>O</td>\n",
       "      <td>M</td>\n",
       "      <td>94956406530</td>\n",
       "      <td>1</td>\n",
       "    </tr>\n",
       "    <tr>\n",
       "      <th>3</th>\n",
       "      <td>5748520</td>\n",
       "      <td>245</td>\n",
       "      <td>438</td>\n",
       "      <td>LOS</td>\n",
       "      <td>WA</td>\n",
       "      <td>2016-04-30</td>\n",
       "      <td>2016-05-14</td>\n",
       "      <td>2016-10-29</td>\n",
       "      <td>1987</td>\n",
       "      <td>29</td>\n",
       "      <td>F</td>\n",
       "      <td>1</td>\n",
       "      <td>B1</td>\n",
       "      <td>1</td>\n",
       "      <td>DL</td>\n",
       "      <td>00040</td>\n",
       "      <td>G</td>\n",
       "      <td>O</td>\n",
       "      <td>M</td>\n",
       "      <td>94956451430</td>\n",
       "      <td>1</td>\n",
       "    </tr>\n",
       "    <tr>\n",
       "      <th>4</th>\n",
       "      <td>5748521</td>\n",
       "      <td>245</td>\n",
       "      <td>438</td>\n",
       "      <td>LOS</td>\n",
       "      <td>WA</td>\n",
       "      <td>2016-04-30</td>\n",
       "      <td>2016-05-14</td>\n",
       "      <td>2016-10-29</td>\n",
       "      <td>1988</td>\n",
       "      <td>28</td>\n",
       "      <td>M</td>\n",
       "      <td>1</td>\n",
       "      <td>B1</td>\n",
       "      <td>1</td>\n",
       "      <td>DL</td>\n",
       "      <td>00040</td>\n",
       "      <td>G</td>\n",
       "      <td>O</td>\n",
       "      <td>M</td>\n",
       "      <td>94956388130</td>\n",
       "      <td>1</td>\n",
       "    </tr>\n",
       "  </tbody>\n",
       "</table>\n",
       "</div>"
      ],
      "text/plain": [
       "     cicid  i94cit  i94res i94port i94addr     arrdate     depdate     dtaddto  biryear  i94bir gender  i94visa visatype  i94mode airline  fltno entdepa entdepd matflag       admnum  count\n",
       "0  5748517     245     438     LOS      CA  2016-04-30  2016-05-08  2016-10-29     1976      40      F        1       B1        1      QF  00011       G       O       M  94953870030      1\n",
       "1  5748518     245     438     LOS      NV  2016-04-30  2016-05-17  2016-10-29     1984      32      F        1       B1        1      VA  00007       G       O       M  94955622830      1\n",
       "2  5748519     245     438     LOS      WA  2016-04-30  2016-05-08  2016-10-29     1987      29      M        1       B1        1      DL  00040       G       O       M  94956406530      1\n",
       "3  5748520     245     438     LOS      WA  2016-04-30  2016-05-14  2016-10-29     1987      29      F        1       B1        1      DL  00040       G       O       M  94956451430      1\n",
       "4  5748521     245     438     LOS      WA  2016-04-30  2016-05-14  2016-10-29     1988      28      M        1       B1        1      DL  00040       G       O       M  94956388130      1"
      ]
     },
     "execution_count": 8,
     "metadata": {},
     "output_type": "execute_result"
    }
   ],
   "source": [
    "imm_df.limit(5).toPandas()"
   ]
  },
  {
   "cell_type": "markdown",
   "metadata": {},
   "source": [
    "#### Weather data cleaning\n",
    "Null data is clean, only data after year 2000 and from US cities is kept"
   ]
  },
  {
   "cell_type": "code",
   "execution_count": 38,
   "metadata": {},
   "outputs": [
    {
     "data": {
      "text/plain": [
       "39320"
      ]
     },
     "execution_count": 38,
     "metadata": {},
     "output_type": "execute_result"
    }
   ],
   "source": [
    "weather_df = spark.read.csv('/data2/GlobalLandTemperaturesByCity.csv', inferSchema=True, header=True)\n",
    "\n",
    "weather_df = weather_df.filter(\"AverageTemperature is not null\")\n",
    "weather_df = weather_df.withColumn(\"year\", F.year('dt'))\n",
    "weather_df = weather_df.withColumn(\"month\", F.month('dt'))\n",
    "\n",
    "weather_df = weather_df.filter(\"year>2000 and Country='United States'\")\n",
    "weather_df.count()"
   ]
  },
  {
   "cell_type": "code",
   "execution_count": 39,
   "metadata": {},
   "outputs": [
    {
     "data": {
      "text/html": [
       "<div>\n",
       "<style scoped>\n",
       "    .dataframe tbody tr th:only-of-type {\n",
       "        vertical-align: middle;\n",
       "    }\n",
       "\n",
       "    .dataframe tbody tr th {\n",
       "        vertical-align: top;\n",
       "    }\n",
       "\n",
       "    .dataframe thead th {\n",
       "        text-align: right;\n",
       "    }\n",
       "</style>\n",
       "<table border=\"1\" class=\"dataframe\">\n",
       "  <thead>\n",
       "    <tr style=\"text-align: right;\">\n",
       "      <th></th>\n",
       "      <th>dt</th>\n",
       "      <th>AverageTemperature</th>\n",
       "      <th>AverageTemperatureUncertainty</th>\n",
       "      <th>City</th>\n",
       "      <th>Country</th>\n",
       "      <th>Latitude</th>\n",
       "      <th>Longitude</th>\n",
       "      <th>year</th>\n",
       "      <th>month</th>\n",
       "    </tr>\n",
       "  </thead>\n",
       "  <tbody>\n",
       "    <tr>\n",
       "      <th>0</th>\n",
       "      <td>2001-01-01</td>\n",
       "      <td>4.465</td>\n",
       "      <td>0.286</td>\n",
       "      <td>Abilene</td>\n",
       "      <td>United States</td>\n",
       "      <td>32.95N</td>\n",
       "      <td>100.53W</td>\n",
       "      <td>2001</td>\n",
       "      <td>1</td>\n",
       "    </tr>\n",
       "    <tr>\n",
       "      <th>1</th>\n",
       "      <td>2001-02-01</td>\n",
       "      <td>8.142</td>\n",
       "      <td>0.331</td>\n",
       "      <td>Abilene</td>\n",
       "      <td>United States</td>\n",
       "      <td>32.95N</td>\n",
       "      <td>100.53W</td>\n",
       "      <td>2001</td>\n",
       "      <td>2</td>\n",
       "    </tr>\n",
       "    <tr>\n",
       "      <th>2</th>\n",
       "      <td>2001-03-01</td>\n",
       "      <td>9.951</td>\n",
       "      <td>0.298</td>\n",
       "      <td>Abilene</td>\n",
       "      <td>United States</td>\n",
       "      <td>32.95N</td>\n",
       "      <td>100.53W</td>\n",
       "      <td>2001</td>\n",
       "      <td>3</td>\n",
       "    </tr>\n",
       "    <tr>\n",
       "      <th>3</th>\n",
       "      <td>2001-04-01</td>\n",
       "      <td>18.488</td>\n",
       "      <td>0.429</td>\n",
       "      <td>Abilene</td>\n",
       "      <td>United States</td>\n",
       "      <td>32.95N</td>\n",
       "      <td>100.53W</td>\n",
       "      <td>2001</td>\n",
       "      <td>4</td>\n",
       "    </tr>\n",
       "    <tr>\n",
       "      <th>4</th>\n",
       "      <td>2001-05-01</td>\n",
       "      <td>23.189</td>\n",
       "      <td>0.181</td>\n",
       "      <td>Abilene</td>\n",
       "      <td>United States</td>\n",
       "      <td>32.95N</td>\n",
       "      <td>100.53W</td>\n",
       "      <td>2001</td>\n",
       "      <td>5</td>\n",
       "    </tr>\n",
       "  </tbody>\n",
       "</table>\n",
       "</div>"
      ],
      "text/plain": [
       "          dt  AverageTemperature  AverageTemperatureUncertainty     City        Country Latitude Longitude  year  month\n",
       "0 2001-01-01               4.465                          0.286  Abilene  United States   32.95N   100.53W  2001      1\n",
       "1 2001-02-01               8.142                          0.331  Abilene  United States   32.95N   100.53W  2001      2\n",
       "2 2001-03-01               9.951                          0.298  Abilene  United States   32.95N   100.53W  2001      3\n",
       "3 2001-04-01              18.488                          0.429  Abilene  United States   32.95N   100.53W  2001      4\n",
       "4 2001-05-01              23.189                          0.181  Abilene  United States   32.95N   100.53W  2001      5"
      ]
     },
     "execution_count": 39,
     "metadata": {},
     "output_type": "execute_result"
    }
   ],
   "source": [
    "weather_df.limit(5).toPandas()"
   ]
  },
  {
   "cell_type": "markdown",
   "metadata": {},
   "source": [
    "### Step 3: Define the Data Model\n",
    "#### 3.1 Conceptual Data Model\n",
    "There are one fact table imm_facts and four dimensional tables. The fact table includes most of items from i94 immigration records and keys linked to dimensional tables. Dimensioanl tables includes persons, cities, dates and transport. Fact table and persons table can be joined to analyze the compoents of visitors to US, age distribution, visa types. Fact table and cities can be used to find the popular landing ports and relations to city's population, temperature. Joining fact table and dates table can discover the popular month of visiting US and the trends with time. Dimensional table transport and fact table help to analyze the popular airlines.\n",
    "\n",
    "### Fact table: \n",
    "#### imm_facts\n",
    "    cicid primary key\n",
    "    person_key,\n",
    "    city_key\n",
    "    transport_key\n",
    "    arrival_date\n",
    "    departure_date\n",
    "    allowed_date\n",
    "    arrival_flag\n",
    "    depart_flag\n",
    "    match_flag\n",
    "    count\n",
    "    \n",
    "    \n",
    "### Dimensional tables\n",
    "#### persons\n",
    "    person_key\n",
    "    admnum\n",
    "    birth_year\n",
    "    gender\n",
    "    age\n",
    "    citizenship\n",
    "    residence\n",
    "    visa_category\n",
    "    visa_type\n",
    "    \n",
    "#### cities\n",
    "    city_key\n",
    "    city\n",
    "    states\n",
    "    latitude\n",
    "    longitude\n",
    "    population\n",
    "    foreign_born\n",
    "    avg_temp\n",
    "\n",
    "#### dates\n",
    "    date_key\n",
    "    year\n",
    "    month\n",
    "    day\n",
    "    \n",
    "#### transports\n",
    "    transport_key\n",
    "    type\n",
    "    airline\n",
    "    flight_no"
   ]
  },
  {
   "cell_type": "code",
   "execution_count": null,
   "metadata": {},
   "outputs": [],
   "source": []
  },
  {
   "cell_type": "markdown",
   "metadata": {},
   "source": [
    "#### 3.2 Mapping Out Data Pipelines\n",
    "Here I am not using any s3 or redshift database. All data is processing in this workspace. The steps are just read in tabels, join tables and creating fact and dimensional tables."
   ]
  },
  {
   "cell_type": "markdown",
   "metadata": {},
   "source": [
    "### Step 4: Run Pipelines to Model the Data \n",
    "#### 4.1 Create the data model\n",
    "Build the data pipelines to create the data model."
   ]
  },
  {
   "cell_type": "markdown",
   "metadata": {},
   "source": [
    "##### Create dimension table persons"
   ]
  },
  {
   "cell_type": "code",
   "execution_count": 11,
   "metadata": {},
   "outputs": [],
   "source": [
    "# read in i94cit_i94res_codes.csv which is manually created from SAS description file \n",
    "i94cit_i94res = spark.read.csv(\"./i94_codes/i94cit_i94res_codes.csv\", sep='|', inferSchema=True, header=True)"
   ]
  },
  {
   "cell_type": "code",
   "execution_count": 12,
   "metadata": {},
   "outputs": [
    {
     "data": {
      "text/html": [
       "<div>\n",
       "<style scoped>\n",
       "    .dataframe tbody tr th:only-of-type {\n",
       "        vertical-align: middle;\n",
       "    }\n",
       "\n",
       "    .dataframe tbody tr th {\n",
       "        vertical-align: top;\n",
       "    }\n",
       "\n",
       "    .dataframe thead th {\n",
       "        text-align: right;\n",
       "    }\n",
       "</style>\n",
       "<table border=\"1\" class=\"dataframe\">\n",
       "  <thead>\n",
       "    <tr style=\"text-align: right;\">\n",
       "      <th></th>\n",
       "      <th>code</th>\n",
       "      <th>i94ctry</th>\n",
       "    </tr>\n",
       "  </thead>\n",
       "  <tbody>\n",
       "    <tr>\n",
       "      <th>0</th>\n",
       "      <td>582</td>\n",
       "      <td>MEXICO</td>\n",
       "    </tr>\n",
       "    <tr>\n",
       "      <th>1</th>\n",
       "      <td>236</td>\n",
       "      <td>AFGHANISTAN</td>\n",
       "    </tr>\n",
       "    <tr>\n",
       "      <th>2</th>\n",
       "      <td>101</td>\n",
       "      <td>ALBANIA</td>\n",
       "    </tr>\n",
       "    <tr>\n",
       "      <th>3</th>\n",
       "      <td>316</td>\n",
       "      <td>ALGERIA</td>\n",
       "    </tr>\n",
       "    <tr>\n",
       "      <th>4</th>\n",
       "      <td>102</td>\n",
       "      <td>ANDORRA</td>\n",
       "    </tr>\n",
       "  </tbody>\n",
       "</table>\n",
       "</div>"
      ],
      "text/plain": [
       "   code      i94ctry\n",
       "0   582       MEXICO\n",
       "1   236  AFGHANISTAN\n",
       "2   101      ALBANIA\n",
       "3   316      ALGERIA\n",
       "4   102      ANDORRA"
      ]
     },
     "execution_count": 12,
     "metadata": {},
     "output_type": "execute_result"
    }
   ],
   "source": [
    "i94cit_i94res.limit(5).toPandas()"
   ]
  },
  {
   "cell_type": "code",
   "execution_count": 13,
   "metadata": {},
   "outputs": [],
   "source": [
    "persons_df = imm_df.select(F.col(\"admnum\").alias('person_key'),\n",
    "                         F.col(\"admnum\"),\n",
    "                         F.col(\"biryear\").alias(\"birth_year\"),\n",
    "                         F.col(\"gender\"),\n",
    "                         F.col(\"i94bir\").alias(\"age\"),\n",
    "                         F.col(\"i94cit\"),\n",
    "                         F.col(\"i94res\"),\n",
    "                         F.col(\"i94visa\").alias(\"visa_category\"),\n",
    "                         F.col(\"visatype\").alias(\"visa_type\"))"
   ]
  },
  {
   "cell_type": "code",
   "execution_count": 14,
   "metadata": {},
   "outputs": [],
   "source": [
    "persons_df = persons_df.dropDuplicates()"
   ]
  },
  {
   "cell_type": "code",
   "execution_count": 32,
   "metadata": {},
   "outputs": [],
   "source": [
    "# join country code, replace code of i94cit column with country names\n",
    "persons_df = persons_df.join(i94cit_i94res, persons_df['i94cit']==i94cit_i94res['code'], 'left_outer') \\\n",
    "    .select(persons_df[\"*\"], i94cit_i94res[\"i94ctry\"].alias('citizenship')).drop('i94cit')"
   ]
  },
  {
   "cell_type": "code",
   "execution_count": 34,
   "metadata": {},
   "outputs": [],
   "source": [
    "# join country code, replace code of i94res column with country name \n",
    "persons_df = persons_df.join(i94cit_i94res, persons_df['i94res']==i94cit_i94res['code'], 'left_outer') \\\n",
    "    .select(persons_df['*'], i94cit_i94res[\"i94ctry\"].alias('residence')).drop('i94res')"
   ]
  },
  {
   "cell_type": "code",
   "execution_count": 35,
   "metadata": {},
   "outputs": [
    {
     "data": {
      "text/html": [
       "<div>\n",
       "<style scoped>\n",
       "    .dataframe tbody tr th:only-of-type {\n",
       "        vertical-align: middle;\n",
       "    }\n",
       "\n",
       "    .dataframe tbody tr th {\n",
       "        vertical-align: top;\n",
       "    }\n",
       "\n",
       "    .dataframe thead th {\n",
       "        text-align: right;\n",
       "    }\n",
       "</style>\n",
       "<table border=\"1\" class=\"dataframe\">\n",
       "  <thead>\n",
       "    <tr style=\"text-align: right;\">\n",
       "      <th></th>\n",
       "      <th>person_key</th>\n",
       "      <th>admnum</th>\n",
       "      <th>birth_year</th>\n",
       "      <th>gender</th>\n",
       "      <th>age</th>\n",
       "      <th>visa_category</th>\n",
       "      <th>visa_type</th>\n",
       "      <th>citizenship</th>\n",
       "      <th>residence</th>\n",
       "    </tr>\n",
       "  </thead>\n",
       "  <tbody>\n",
       "    <tr>\n",
       "      <th>0</th>\n",
       "      <td>94953870030</td>\n",
       "      <td>94953870030</td>\n",
       "      <td>1976</td>\n",
       "      <td>F</td>\n",
       "      <td>40</td>\n",
       "      <td>1</td>\n",
       "      <td>B1</td>\n",
       "      <td>CHINA, PRC</td>\n",
       "      <td>AUSTRALIA</td>\n",
       "    </tr>\n",
       "    <tr>\n",
       "      <th>1</th>\n",
       "      <td>94955622830</td>\n",
       "      <td>94955622830</td>\n",
       "      <td>1984</td>\n",
       "      <td>F</td>\n",
       "      <td>32</td>\n",
       "      <td>1</td>\n",
       "      <td>B1</td>\n",
       "      <td>CHINA, PRC</td>\n",
       "      <td>AUSTRALIA</td>\n",
       "    </tr>\n",
       "    <tr>\n",
       "      <th>2</th>\n",
       "      <td>94956406530</td>\n",
       "      <td>94956406530</td>\n",
       "      <td>1987</td>\n",
       "      <td>M</td>\n",
       "      <td>29</td>\n",
       "      <td>1</td>\n",
       "      <td>B1</td>\n",
       "      <td>CHINA, PRC</td>\n",
       "      <td>AUSTRALIA</td>\n",
       "    </tr>\n",
       "    <tr>\n",
       "      <th>3</th>\n",
       "      <td>94956451430</td>\n",
       "      <td>94956451430</td>\n",
       "      <td>1987</td>\n",
       "      <td>F</td>\n",
       "      <td>29</td>\n",
       "      <td>1</td>\n",
       "      <td>B1</td>\n",
       "      <td>CHINA, PRC</td>\n",
       "      <td>AUSTRALIA</td>\n",
       "    </tr>\n",
       "    <tr>\n",
       "      <th>4</th>\n",
       "      <td>94956388130</td>\n",
       "      <td>94956388130</td>\n",
       "      <td>1988</td>\n",
       "      <td>M</td>\n",
       "      <td>28</td>\n",
       "      <td>1</td>\n",
       "      <td>B1</td>\n",
       "      <td>CHINA, PRC</td>\n",
       "      <td>AUSTRALIA</td>\n",
       "    </tr>\n",
       "  </tbody>\n",
       "</table>\n",
       "</div>"
      ],
      "text/plain": [
       "    person_key       admnum  birth_year gender  age  visa_category visa_type citizenship  residence\n",
       "0  94953870030  94953870030        1976      F   40              1        B1  CHINA, PRC  AUSTRALIA\n",
       "1  94955622830  94955622830        1984      F   32              1        B1  CHINA, PRC  AUSTRALIA\n",
       "2  94956406530  94956406530        1987      M   29              1        B1  CHINA, PRC  AUSTRALIA\n",
       "3  94956451430  94956451430        1987      F   29              1        B1  CHINA, PRC  AUSTRALIA\n",
       "4  94956388130  94956388130        1988      M   28              1        B1  CHINA, PRC  AUSTRALIA"
      ]
     },
     "execution_count": 35,
     "metadata": {},
     "output_type": "execute_result"
    }
   ],
   "source": [
    "persons_df.limit(5).toPandas()"
   ]
  },
  {
   "cell_type": "code",
   "execution_count": 36,
   "metadata": {},
   "outputs": [],
   "source": [
    "# save the dimensional table as parquet file\n",
    "persons_df.write.parquet(\"persons.parquet\")"
   ]
  },
  {
   "cell_type": "markdown",
   "metadata": {},
   "source": [
    "#### Create dimensional table cities"
   ]
  },
  {
   "cell_type": "markdown",
   "metadata": {},
   "source": [
    "- city_key\n",
    "- city\n",
    "- states\n",
    "- latitude\n",
    "- longitude\n",
    "- population\n",
    "- foreign_born\n",
    "- avg_temp"
   ]
  },
  {
   "cell_type": "code",
   "execution_count": 28,
   "metadata": {},
   "outputs": [],
   "source": [
    "# read in i94port_codes.csv which is manually created\n",
    "i94port_data = spark.read.csv(\"./i94_codes/i94port_data.csv\", inferSchema=True, header=True, sep=\",\")"
   ]
  },
  {
   "cell_type": "code",
   "execution_count": 53,
   "metadata": {},
   "outputs": [],
   "source": [
    "# extract i94port from i94 immigration table\n",
    "cities = imm_df.select('i94port').dropDuplicates()"
   ]
  },
  {
   "cell_type": "code",
   "execution_count": 55,
   "metadata": {},
   "outputs": [],
   "source": [
    "# join i94port_codes to append city and state columns\n",
    "cities = cities.join(i94port_data, cities['i94port']==i94port_data['code'], 'left_outer') \\\n",
    "    .select(cities['i94port'].alias('city_key'), i94port_data['city'], i94port_data['state_name'].alias('state'))"
   ]
  },
  {
   "cell_type": "code",
   "execution_count": 56,
   "metadata": {},
   "outputs": [],
   "source": [
    "cities = cities.dropna()"
   ]
  },
  {
   "cell_type": "code",
   "execution_count": 34,
   "metadata": {},
   "outputs": [
    {
     "data": {
      "text/html": [
       "<div>\n",
       "<style scoped>\n",
       "    .dataframe tbody tr th:only-of-type {\n",
       "        vertical-align: middle;\n",
       "    }\n",
       "\n",
       "    .dataframe tbody tr th {\n",
       "        vertical-align: top;\n",
       "    }\n",
       "\n",
       "    .dataframe thead th {\n",
       "        text-align: right;\n",
       "    }\n",
       "</style>\n",
       "<table border=\"1\" class=\"dataframe\">\n",
       "  <thead>\n",
       "    <tr style=\"text-align: right;\">\n",
       "      <th></th>\n",
       "      <th>city_key</th>\n",
       "      <th>city</th>\n",
       "      <th>state</th>\n",
       "    </tr>\n",
       "  </thead>\n",
       "  <tbody>\n",
       "    <tr>\n",
       "      <th>0</th>\n",
       "      <td>FMY</td>\n",
       "      <td>Fort Myers</td>\n",
       "      <td>Florida</td>\n",
       "    </tr>\n",
       "    <tr>\n",
       "      <th>1</th>\n",
       "      <td>BGM</td>\n",
       "      <td>Bangor</td>\n",
       "      <td>Maine</td>\n",
       "    </tr>\n",
       "    <tr>\n",
       "      <th>2</th>\n",
       "      <td>HEL</td>\n",
       "      <td>Helena</td>\n",
       "      <td>Montana</td>\n",
       "    </tr>\n",
       "    <tr>\n",
       "      <th>3</th>\n",
       "      <td>DNS</td>\n",
       "      <td>Dunseith</td>\n",
       "      <td>North Dakota</td>\n",
       "    </tr>\n",
       "    <tr>\n",
       "      <th>4</th>\n",
       "      <td>MOR</td>\n",
       "      <td>Franklin</td>\n",
       "      <td>Vermont</td>\n",
       "    </tr>\n",
       "  </tbody>\n",
       "</table>\n",
       "</div>"
      ],
      "text/plain": [
       "  city_key        city         state\n",
       "0      FMY  Fort Myers       Florida\n",
       "1      BGM      Bangor         Maine\n",
       "2      HEL      Helena       Montana\n",
       "3      DNS    Dunseith  North Dakota\n",
       "4      MOR    Franklin       Vermont"
      ]
     },
     "execution_count": 34,
     "metadata": {},
     "output_type": "execute_result"
    }
   ],
   "source": [
    "cities.limit(5).toPandas()"
   ]
  },
  {
   "cell_type": "code",
   "execution_count": 64,
   "metadata": {},
   "outputs": [],
   "source": [
    "# join weather information for cities\n",
    "weather_avg = weather_df.selectExpr(\"City as city\", \"dt\", \"AverageTemperature as avg_temp\", \"Latitude as latitude\", \"Longitude as longitude\") \\\n",
    "    .groupBy(\"city\", \"latitude\", \"longitude\").agg(F.avg(\"avg_temp\").alias(\"avg_temp\"))"
   ]
  },
  {
   "cell_type": "code",
   "execution_count": 65,
   "metadata": {},
   "outputs": [],
   "source": [
    "weather_avg = weather_avg.dropDuplicates()"
   ]
  },
  {
   "cell_type": "code",
   "execution_count": 66,
   "metadata": {},
   "outputs": [],
   "source": [
    "win = Window().partitionBy('city').orderBy('avg_temp')\n",
    "weather_avg = weather_avg.withColumn('nx', F.row_number().over(win)).where(\"nx=1\").drop(\"nx\")"
   ]
  },
  {
   "cell_type": "code",
   "execution_count": 67,
   "metadata": {},
   "outputs": [],
   "source": [
    "cities = cities.join(weather_avg, cities['city']==weather_avg['city'], \"left\") \\\n",
    "    .select(cities['*'], weather_avg['latitude'], weather_avg['longitude'], weather_avg['avg_temp'])"
   ]
  },
  {
   "cell_type": "code",
   "execution_count": 69,
   "metadata": {},
   "outputs": [],
   "source": [
    "# Read in demographics and combine demographics into cities\n",
    "demo_df = spark.read.csv(\"us-cities-demographics.csv\", inferSchema=True, header=True, sep=\";\")"
   ]
  },
  {
   "cell_type": "code",
   "execution_count": 70,
   "metadata": {},
   "outputs": [],
   "source": [
    "demo_df = demo_df.select(\"City\", \"State\", \"Total Population\", \"Foreign-born\").dropDuplicates()"
   ]
  },
  {
   "cell_type": "code",
   "execution_count": 71,
   "metadata": {},
   "outputs": [],
   "source": [
    "cities = cities.join(demo_df, [cities['city']==demo_df['City'], cities['state']==demo_df['State']], 'left_outer') \\\n",
    "    .select(cities[\"*\"], demo_df[\"Total Population\"].alias('population'), demo_df[\"Foreign-born\"].alias('foreign_born'))"
   ]
  },
  {
   "cell_type": "code",
   "execution_count": 73,
   "metadata": {},
   "outputs": [
    {
     "data": {
      "text/html": [
       "<div>\n",
       "<style scoped>\n",
       "    .dataframe tbody tr th:only-of-type {\n",
       "        vertical-align: middle;\n",
       "    }\n",
       "\n",
       "    .dataframe tbody tr th {\n",
       "        vertical-align: top;\n",
       "    }\n",
       "\n",
       "    .dataframe thead th {\n",
       "        text-align: right;\n",
       "    }\n",
       "</style>\n",
       "<table border=\"1\" class=\"dataframe\">\n",
       "  <thead>\n",
       "    <tr style=\"text-align: right;\">\n",
       "      <th></th>\n",
       "      <th>city_key</th>\n",
       "      <th>city</th>\n",
       "      <th>state</th>\n",
       "      <th>latitude</th>\n",
       "      <th>longitude</th>\n",
       "      <th>avg_temp</th>\n",
       "      <th>population</th>\n",
       "      <th>foreign_born</th>\n",
       "    </tr>\n",
       "  </thead>\n",
       "  <tbody>\n",
       "    <tr>\n",
       "      <th>0</th>\n",
       "      <td>FRB</td>\n",
       "      <td>Fairbanks</td>\n",
       "      <td>Alaska</td>\n",
       "      <td>None</td>\n",
       "      <td>None</td>\n",
       "      <td>NaN</td>\n",
       "      <td>NaN</td>\n",
       "      <td>NaN</td>\n",
       "    </tr>\n",
       "    <tr>\n",
       "      <th>1</th>\n",
       "      <td>CHS</td>\n",
       "      <td>Charleston</td>\n",
       "      <td>West Virginia</td>\n",
       "      <td>32.95N</td>\n",
       "      <td>79.47W</td>\n",
       "      <td>19.56715</td>\n",
       "      <td>NaN</td>\n",
       "      <td>NaN</td>\n",
       "    </tr>\n",
       "    <tr>\n",
       "      <th>2</th>\n",
       "      <td>CHL</td>\n",
       "      <td>Charleston</td>\n",
       "      <td>South Carolina</td>\n",
       "      <td>32.95N</td>\n",
       "      <td>79.47W</td>\n",
       "      <td>19.56715</td>\n",
       "      <td>135524.0</td>\n",
       "      <td>5767.0</td>\n",
       "    </tr>\n",
       "    <tr>\n",
       "      <th>3</th>\n",
       "      <td>MDT</td>\n",
       "      <td>Harrisburg</td>\n",
       "      <td>Pennsylvania</td>\n",
       "      <td>None</td>\n",
       "      <td>None</td>\n",
       "      <td>NaN</td>\n",
       "      <td>NaN</td>\n",
       "      <td>NaN</td>\n",
       "    </tr>\n",
       "    <tr>\n",
       "      <th>4</th>\n",
       "      <td>LUB</td>\n",
       "      <td>Lubec</td>\n",
       "      <td>Maine</td>\n",
       "      <td>None</td>\n",
       "      <td>None</td>\n",
       "      <td>NaN</td>\n",
       "      <td>NaN</td>\n",
       "      <td>NaN</td>\n",
       "    </tr>\n",
       "  </tbody>\n",
       "</table>\n",
       "</div>"
      ],
      "text/plain": [
       "  city_key        city           state latitude longitude  avg_temp  population  foreign_born\n",
       "0      FRB   Fairbanks          Alaska     None      None       NaN         NaN           NaN\n",
       "1      CHS  Charleston   West Virginia   32.95N    79.47W  19.56715         NaN           NaN\n",
       "2      CHL  Charleston  South Carolina   32.95N    79.47W  19.56715    135524.0        5767.0\n",
       "3      MDT  Harrisburg    Pennsylvania     None      None       NaN         NaN           NaN\n",
       "4      LUB       Lubec           Maine     None      None       NaN         NaN           NaN"
      ]
     },
     "execution_count": 73,
     "metadata": {},
     "output_type": "execute_result"
    }
   ],
   "source": [
    "cities.limit(5).toPandas()"
   ]
  },
  {
   "cell_type": "code",
   "execution_count": 74,
   "metadata": {},
   "outputs": [],
   "source": [
    "# write cities table into parquet file\n",
    "cities.write.parquet(\"cities.parquet\")"
   ]
  },
  {
   "cell_type": "markdown",
   "metadata": {},
   "source": [
    "#### Dates"
   ]
  },
  {
   "cell_type": "code",
   "execution_count": 79,
   "metadata": {},
   "outputs": [],
   "source": [
    "# extract and merge all dates\n",
    "dates = imm_df.select(F.col('arrdate').alias('date_key')).dropDuplicates() \\\n",
    "    .union(imm_df.select(F.col('depdate').alias('date_key')).dropDuplicates()) \\\n",
    "    .union(imm_df.select(F.col('dtaddto').alias('date_key')).dropDuplicates())"
   ]
  },
  {
   "cell_type": "code",
   "execution_count": 80,
   "metadata": {},
   "outputs": [],
   "source": [
    "dates = dates.orderBy('date_key').dropDuplicates().dropna()"
   ]
  },
  {
   "cell_type": "code",
   "execution_count": 81,
   "metadata": {},
   "outputs": [],
   "source": [
    "@F.udf(IntegerType())\n",
    "def yearUDF(x):\n",
    "    return x.year\n",
    "\n",
    "@F.udf(IntegerType())\n",
    "def monthUDF(x):\n",
    "    return x.month\n",
    "\n",
    "@F.udf(IntegerType())\n",
    "def dayUDF(x):\n",
    "    return x.day\n",
    "\n",
    "dates_df = dates.select(F.col('date_key'), yearUDF('date_key').alias('year'), \\\n",
    "                        monthUDF('date_key').alias('month'), dayUDF('date_key').alias('day'))"
   ]
  },
  {
   "cell_type": "code",
   "execution_count": 82,
   "metadata": {},
   "outputs": [
    {
     "data": {
      "text/html": [
       "<div>\n",
       "<style scoped>\n",
       "    .dataframe tbody tr th:only-of-type {\n",
       "        vertical-align: middle;\n",
       "    }\n",
       "\n",
       "    .dataframe tbody tr th {\n",
       "        vertical-align: top;\n",
       "    }\n",
       "\n",
       "    .dataframe thead th {\n",
       "        text-align: right;\n",
       "    }\n",
       "</style>\n",
       "<table border=\"1\" class=\"dataframe\">\n",
       "  <thead>\n",
       "    <tr style=\"text-align: right;\">\n",
       "      <th></th>\n",
       "      <th>date_key</th>\n",
       "      <th>year</th>\n",
       "      <th>month</th>\n",
       "      <th>day</th>\n",
       "    </tr>\n",
       "  </thead>\n",
       "  <tbody>\n",
       "    <tr>\n",
       "      <th>0</th>\n",
       "      <td>2001-07-20</td>\n",
       "      <td>2001</td>\n",
       "      <td>7</td>\n",
       "      <td>20</td>\n",
       "    </tr>\n",
       "    <tr>\n",
       "      <th>1</th>\n",
       "      <td>2012-04-12</td>\n",
       "      <td>2012</td>\n",
       "      <td>4</td>\n",
       "      <td>12</td>\n",
       "    </tr>\n",
       "    <tr>\n",
       "      <th>2</th>\n",
       "      <td>2012-04-14</td>\n",
       "      <td>2012</td>\n",
       "      <td>4</td>\n",
       "      <td>14</td>\n",
       "    </tr>\n",
       "    <tr>\n",
       "      <th>3</th>\n",
       "      <td>2014-04-22</td>\n",
       "      <td>2014</td>\n",
       "      <td>4</td>\n",
       "      <td>22</td>\n",
       "    </tr>\n",
       "    <tr>\n",
       "      <th>4</th>\n",
       "      <td>2014-04-24</td>\n",
       "      <td>2014</td>\n",
       "      <td>4</td>\n",
       "      <td>24</td>\n",
       "    </tr>\n",
       "  </tbody>\n",
       "</table>\n",
       "</div>"
      ],
      "text/plain": [
       "     date_key  year  month  day\n",
       "0  2001-07-20  2001      7   20\n",
       "1  2012-04-12  2012      4   12\n",
       "2  2012-04-14  2012      4   14\n",
       "3  2014-04-22  2014      4   22\n",
       "4  2014-04-24  2014      4   24"
      ]
     },
     "execution_count": 82,
     "metadata": {},
     "output_type": "execute_result"
    }
   ],
   "source": [
    "dates_df.limit(5).toPandas()"
   ]
  },
  {
   "cell_type": "code",
   "execution_count": 83,
   "metadata": {},
   "outputs": [],
   "source": [
    "dates_df.write.parquet('dates.parquet')"
   ]
  },
  {
   "cell_type": "markdown",
   "metadata": {},
   "source": [
    "#### Create transport dimensional table"
   ]
  },
  {
   "cell_type": "markdown",
   "metadata": {},
   "source": [
    "- transport_key\n",
    "- type\n",
    "- airline\n",
    "- flight_no"
   ]
  },
  {
   "cell_type": "code",
   "execution_count": 18,
   "metadata": {},
   "outputs": [],
   "source": [
    "transport_df = imm_df.select(F.md5(F.concat('i94mode', 'airline', 'fltno')).alias('transport_key') \\\n",
    "                             , F.col('i94mode').alias('type'), F.col('airline'), F.col('fltno').alias('flight_no')) \\\n",
    "                    .dropDuplicates()"
   ]
  },
  {
   "cell_type": "code",
   "execution_count": 20,
   "metadata": {},
   "outputs": [],
   "source": [
    "transport_df = transport_df.dropna()"
   ]
  },
  {
   "cell_type": "code",
   "execution_count": 21,
   "metadata": {},
   "outputs": [],
   "source": [
    "transport_df.write.parquet('transports.parquet')"
   ]
  },
  {
   "cell_type": "markdown",
   "metadata": {},
   "source": [
    "#### create fact table "
   ]
  },
  {
   "cell_type": "markdown",
   "metadata": {},
   "source": [
    "- cicid primary key\n",
    "- person_key,\n",
    "- city_key\n",
    "- transport_key\n",
    "- arrival_date\n",
    "- departure_date\n",
    "- allowed_date\n",
    "- arrival_flag\n",
    "- depart_flag\n",
    "- match_flag\n",
    "- count"
   ]
  },
  {
   "cell_type": "code",
   "execution_count": 27,
   "metadata": {},
   "outputs": [],
   "source": [
    "imm_facts = imm_df.select(F.col('cicid'), F.col('admnum').alias('person_key'), F.col('i94port').alias('city_key'), \\\n",
    "             F.md5(F.concat('i94mode', 'airline', 'fltno')).alias('transport_key'), \\\n",
    "             F.col('arrdate').alias('arrival_date'), \\\n",
    "             F.col('depdate').alias('departure_date'), \\\n",
    "             F.col('dtaddto').alias('allowed_date'), \\\n",
    "             F.col('entdepa').alias('arrival_flag'), \\\n",
    "             F.col('entdepd').alias('depart_flag'), \\\n",
    "             F.col('matflag').alias('match_flag'), \\\n",
    "             F.col('count'))"
   ]
  },
  {
   "cell_type": "code",
   "execution_count": 28,
   "metadata": {},
   "outputs": [
    {
     "data": {
      "text/html": [
       "<div>\n",
       "<style scoped>\n",
       "    .dataframe tbody tr th:only-of-type {\n",
       "        vertical-align: middle;\n",
       "    }\n",
       "\n",
       "    .dataframe tbody tr th {\n",
       "        vertical-align: top;\n",
       "    }\n",
       "\n",
       "    .dataframe thead th {\n",
       "        text-align: right;\n",
       "    }\n",
       "</style>\n",
       "<table border=\"1\" class=\"dataframe\">\n",
       "  <thead>\n",
       "    <tr style=\"text-align: right;\">\n",
       "      <th></th>\n",
       "      <th>cicid</th>\n",
       "      <th>person_key</th>\n",
       "      <th>city_key</th>\n",
       "      <th>transport_key</th>\n",
       "      <th>arrival_date</th>\n",
       "      <th>departure_date</th>\n",
       "      <th>allowed_date</th>\n",
       "      <th>arrival_flag</th>\n",
       "      <th>depart_flag</th>\n",
       "      <th>match_flag</th>\n",
       "      <th>count</th>\n",
       "    </tr>\n",
       "  </thead>\n",
       "  <tbody>\n",
       "    <tr>\n",
       "      <th>0</th>\n",
       "      <td>5748517</td>\n",
       "      <td>94953870030</td>\n",
       "      <td>LOS</td>\n",
       "      <td>5832ca7bd5357a042d71c466f8fb8d87</td>\n",
       "      <td>2016-04-30</td>\n",
       "      <td>2016-05-08</td>\n",
       "      <td>2016-10-29</td>\n",
       "      <td>G</td>\n",
       "      <td>O</td>\n",
       "      <td>M</td>\n",
       "      <td>1</td>\n",
       "    </tr>\n",
       "    <tr>\n",
       "      <th>1</th>\n",
       "      <td>5748518</td>\n",
       "      <td>94955622830</td>\n",
       "      <td>LOS</td>\n",
       "      <td>c08e32c52ad9483d23693388d93e1f83</td>\n",
       "      <td>2016-04-30</td>\n",
       "      <td>2016-05-17</td>\n",
       "      <td>2016-10-29</td>\n",
       "      <td>G</td>\n",
       "      <td>O</td>\n",
       "      <td>M</td>\n",
       "      <td>1</td>\n",
       "    </tr>\n",
       "    <tr>\n",
       "      <th>2</th>\n",
       "      <td>5748519</td>\n",
       "      <td>94956406530</td>\n",
       "      <td>LOS</td>\n",
       "      <td>dc57ffd9fcf2b8592b188771a4da696b</td>\n",
       "      <td>2016-04-30</td>\n",
       "      <td>2016-05-08</td>\n",
       "      <td>2016-10-29</td>\n",
       "      <td>G</td>\n",
       "      <td>O</td>\n",
       "      <td>M</td>\n",
       "      <td>1</td>\n",
       "    </tr>\n",
       "    <tr>\n",
       "      <th>3</th>\n",
       "      <td>5748520</td>\n",
       "      <td>94956451430</td>\n",
       "      <td>LOS</td>\n",
       "      <td>dc57ffd9fcf2b8592b188771a4da696b</td>\n",
       "      <td>2016-04-30</td>\n",
       "      <td>2016-05-14</td>\n",
       "      <td>2016-10-29</td>\n",
       "      <td>G</td>\n",
       "      <td>O</td>\n",
       "      <td>M</td>\n",
       "      <td>1</td>\n",
       "    </tr>\n",
       "    <tr>\n",
       "      <th>4</th>\n",
       "      <td>5748521</td>\n",
       "      <td>94956388130</td>\n",
       "      <td>LOS</td>\n",
       "      <td>dc57ffd9fcf2b8592b188771a4da696b</td>\n",
       "      <td>2016-04-30</td>\n",
       "      <td>2016-05-14</td>\n",
       "      <td>2016-10-29</td>\n",
       "      <td>G</td>\n",
       "      <td>O</td>\n",
       "      <td>M</td>\n",
       "      <td>1</td>\n",
       "    </tr>\n",
       "  </tbody>\n",
       "</table>\n",
       "</div>"
      ],
      "text/plain": [
       "     cicid   person_key city_key                     transport_key arrival_date departure_date allowed_date arrival_flag depart_flag match_flag  count\n",
       "0  5748517  94953870030      LOS  5832ca7bd5357a042d71c466f8fb8d87   2016-04-30     2016-05-08   2016-10-29            G           O          M      1\n",
       "1  5748518  94955622830      LOS  c08e32c52ad9483d23693388d93e1f83   2016-04-30     2016-05-17   2016-10-29            G           O          M      1\n",
       "2  5748519  94956406530      LOS  dc57ffd9fcf2b8592b188771a4da696b   2016-04-30     2016-05-08   2016-10-29            G           O          M      1\n",
       "3  5748520  94956451430      LOS  dc57ffd9fcf2b8592b188771a4da696b   2016-04-30     2016-05-14   2016-10-29            G           O          M      1\n",
       "4  5748521  94956388130      LOS  dc57ffd9fcf2b8592b188771a4da696b   2016-04-30     2016-05-14   2016-10-29            G           O          M      1"
      ]
     },
     "execution_count": 28,
     "metadata": {},
     "output_type": "execute_result"
    }
   ],
   "source": [
    "imm_facts.limit(5).toPandas()"
   ]
  },
  {
   "cell_type": "code",
   "execution_count": 29,
   "metadata": {},
   "outputs": [],
   "source": [
    "imm_facts.write.parquet('imm_facts.parquet')"
   ]
  },
  {
   "cell_type": "markdown",
   "metadata": {},
   "source": [
    "#### 4.2 Data Quality Checks\n",
    "Quality checks includes:\n",
    " * The primary key of every table is unique.\n",
    " * Check the count number of every table is not zero\n",
    " \n",
    "Run Quality Checks"
   ]
  },
  {
   "cell_type": "code",
   "execution_count": 3,
   "metadata": {},
   "outputs": [],
   "source": [
    "# fact table quality check\n",
    "imm_facts = spark.read.parquet('imm_facts.parquet')"
   ]
  },
  {
   "cell_type": "code",
   "execution_count": 4,
   "metadata": {},
   "outputs": [
    {
     "name": "stdout",
     "output_type": "stream",
     "text": [
      "3096313\n"
     ]
    }
   ],
   "source": [
    "print(imm_facts.count())"
   ]
  },
  {
   "cell_type": "code",
   "execution_count": 5,
   "metadata": {},
   "outputs": [
    {
     "name": "stdout",
     "output_type": "stream",
     "text": [
      "primary key cicid is unique\n"
     ]
    }
   ],
   "source": [
    "if imm_facts.count() == imm_facts.select('cicid').dropDuplicates().count():\n",
    "    print(\"primary key cicid is unique\")\n",
    "else:\n",
    "    print(\"primary key cicid is not unique\")"
   ]
  },
  {
   "cell_type": "code",
   "execution_count": 6,
   "metadata": {},
   "outputs": [
    {
     "name": "stdout",
     "output_type": "stream",
     "text": [
      "3096313\n"
     ]
    }
   ],
   "source": [
    "# dimensional table persons quality check\n",
    "persons = spark.read.parquet('persons.parquet')\n",
    "print(persons.count())"
   ]
  },
  {
   "cell_type": "code",
   "execution_count": 7,
   "metadata": {},
   "outputs": [
    {
     "name": "stdout",
     "output_type": "stream",
     "text": [
      "primary key person_key is not unique\n"
     ]
    }
   ],
   "source": [
    "if persons.count() == persons.select('person_key').dropDuplicates().count():\n",
    "    print(\"primary key person_key is unique\")\n",
    "else:\n",
    "    print(\"primary key person_key is not unique\")"
   ]
  },
  {
   "cell_type": "code",
   "execution_count": 75,
   "metadata": {},
   "outputs": [
    {
     "name": "stdout",
     "output_type": "stream",
     "text": [
      "299\n"
     ]
    }
   ],
   "source": [
    "# dimensional table cities quality check\n",
    "cities = spark.read.parquet('cities.parquet')\n",
    "print(cities.count())"
   ]
  },
  {
   "cell_type": "code",
   "execution_count": 76,
   "metadata": {},
   "outputs": [
    {
     "name": "stdout",
     "output_type": "stream",
     "text": [
      "primary key city_key is unique\n"
     ]
    }
   ],
   "source": [
    "if cities.count() == cities.select('city_key').dropDuplicates().count():\n",
    "    print(\"primary key city_key is unique\")\n",
    "else:\n",
    "    print(\"primary key city_key is not unique\")"
   ]
  },
  {
   "cell_type": "code",
   "execution_count": 77,
   "metadata": {},
   "outputs": [
    {
     "name": "stdout",
     "output_type": "stream",
     "text": [
      "1037\n"
     ]
    }
   ],
   "source": [
    "# dimensional table dates quality check\n",
    "dates = spark.read.parquet('dates.parquet')\n",
    "print(dates.count())"
   ]
  },
  {
   "cell_type": "code",
   "execution_count": 84,
   "metadata": {},
   "outputs": [
    {
     "name": "stdout",
     "output_type": "stream",
     "text": [
      "primary key date_key is unique\n"
     ]
    }
   ],
   "source": [
    "if dates.count() == dates.select('date_key').dropDuplicates().count():\n",
    "    print(\"primary key date_key is unique\")\n",
    "else:\n",
    "    print(\"primary key date_key is unique\")"
   ]
  },
  {
   "cell_type": "code",
   "execution_count": 85,
   "metadata": {},
   "outputs": [
    {
     "name": "stdout",
     "output_type": "stream",
     "text": [
      "10369\n"
     ]
    }
   ],
   "source": [
    "# dimensional table transports quality check\n",
    "transports = spark.read.parquet('transports.parquet')\n",
    "print(transports.count())"
   ]
  },
  {
   "cell_type": "code",
   "execution_count": 86,
   "metadata": {},
   "outputs": [
    {
     "name": "stdout",
     "output_type": "stream",
     "text": [
      "primary key transport_key is unique\n"
     ]
    }
   ],
   "source": [
    "if transports.count() == transports.select('transport_key').dropDuplicates().count():\n",
    "    print(\"primary key transport_key is unique\")\n",
    "else:\n",
    "    print('primary key transport_key is not unique')"
   ]
  },
  {
   "cell_type": "markdown",
   "metadata": {},
   "source": [
    "#### 4.3 Data dictionary \n",
    "\n",
    "| table_name | field          | data source              | description |\n",
    "| ---------- | -------------- | ------------------------ | ----------- |\n",
    "| imm_facts  | cicid          | I94 Immigration Data | Primary key of fact table |\n",
    "| imm_facts  | person_key     | I94 Immigration Data | Foreign key of dimension table persons |\n",
    "| imm_facts  | city_key       | I94 Immigration Data | Foreign key of dimension table cities |\n",
    "| imm_facts  | transport_key  | MD5 of data from I94 | Foreign key of dimension table transports |\n",
    "| imm_facts  | arrival_date   | I94 Immigration Data | Arrival date |\n",
    "| imm_facts  | departure_date | I94 Immigration Data | Departure date |\n",
    "| imm_facts  | allowed_date   | I94 Immigration Data | Allowed date |\n",
    "| imm_facts  | arrival_flag   | I94 Immigration Data | Flag of arrival |\n",
    "| imm_facts  | depart_flag    | I94 Immigration Data | Flag of departure |\n",
    "| imm_facts  | match_flag     | I94 Immigration Data | Matching flag |\n",
    "| imm_facts  | count          | I94 Immigration Data | Always 1 for count |\n",
    "| persons | person_key | Same as admnum | Primary key of dimension table Persons |\n",
    "| persons | admnum | I94 Immigration Data | Admission number |\n",
    "| persons | birth_year | I94 Immigration Data | birth year |\n",
    "| persons | gender | I94 Immigration Data | gender |\n",
    "| persons | age | I94 Immigration Data | age |\n",
    "| persons | citizenship | I94 Immigration Data | Country of Citizenship |\n",
    "| persons | residence | I94 Immigration Data | Country of residence |\n",
    "| persons | visa_category | I94 Immigration Data | Visa Category |\n",
    "| persons | visa_type | I94 Immigration Data | Visa Type |\n",
    "| cities | city_key                | I94 Immigration Data | Primary key of dimension table cities |\n",
    "| cities | city | SAS description | City |\n",
    "| cities | state | SAS description | State |\n",
    "| cities | latitude | World Temperature Data | Latitude |\n",
    "| cities | longitude | World Temperature Data | Longitude |\n",
    "| cities | population | U.S. City Demographic Data | Population of the city |\n",
    "| cities | foreign_born | U.S. City Demographic Data | Population born in other countries |\n",
    "| cities | avg_temp | World Temperature Data | Average temperature |\n",
    "| dates | date_key | I94 Immigration Data | Date |\n",
    "| dates | year | date_key | year |\n",
    "| dates | month | date_key | Month |\n",
    "| dates | day | date_key | Day |\n",
    "| transports | transport_key | MD5 of type, airline and flight_no | Primary key of dimension table transports |\n",
    "| transports | type | I94 Immigration Data | Type |\n",
    "| transports | airline | I94 Immigration Data | Airline |\n",
    "| transports | flight_no | I94 Immigration Data | Flight Number |"
   ]
  },
  {
   "cell_type": "markdown",
   "metadata": {},
   "source": [
    "#### Step 5: Complete Project Write Up\n",
    "* Clearly state the rationale for the choice of tools and technologies for the project.\n",
    "* Propose how often the data should be updated and why.\n",
    "* Write a description of how you would approach the problem differently under the following scenarios:\n",
    " * The data was increased by 100x.\n",
    " * The data populates a dashboard that must be updated on a daily basis by 7am every day.\n",
    " * The database needed to be accessed by 100+ people."
   ]
  },
  {
   "cell_type": "markdown",
   "metadata": {},
   "source": [
    "##### Tools and technologies \n",
    "The project is currently finished in Udacity workspace and only Apache Spark is used. It can be moved to Amazon EMR platform and S3 as the storage."
   ]
  },
  {
   "cell_type": "markdown",
   "metadata": {},
   "source": [
    "##### Data Update schedule\n",
    "The data is suggested to update monthly. It can reduce the amount of data for analysis every time."
   ]
  },
  {
   "cell_type": "markdown",
   "metadata": {},
   "source": [
    "##### Changes required on solution if data changed by the following factors:"
   ]
  },
  {
   "cell_type": "markdown",
   "metadata": {},
   "source": [
    "* The data was increased by 100x.\n",
    "\n",
    "If the data was increased by 100x, the Amazon EMR platform will be a good choice to process the data. And airflow can be used to author and schedule the workflow periodically, like daily or hourly. In this way, the amount of data needed to process will be decreased dramatically each time."
   ]
  },
  {
   "cell_type": "markdown",
   "metadata": {},
   "source": [
    "* The data populates a dashboard that must be updated on a daily basis by 7am every day.\n",
    "\n",
    "The best choice will be using Airflow to author and schedule the workflow to meet the daily requirement"
   ]
  },
  {
   "cell_type": "markdown",
   "metadata": {},
   "source": [
    "* The database needed to be accessed by 100+ people.\n",
    "\n",
    "In order to speed the paralization, the data model can be stored in HDFS, instead of s3. We can also consider redshift as the database which has better performance for paralized access."
   ]
  },
  {
   "cell_type": "code",
   "execution_count": null,
   "metadata": {},
   "outputs": [],
   "source": []
  }
 ],
 "metadata": {
  "kernelspec": {
   "display_name": "Python 3",
   "language": "python",
   "name": "python3"
  },
  "language_info": {
   "codemirror_mode": {
    "name": "ipython",
    "version": 3
   },
   "file_extension": ".py",
   "mimetype": "text/x-python",
   "name": "python",
   "nbconvert_exporter": "python",
   "pygments_lexer": "ipython3",
   "version": "3.7.5"
  }
 },
 "nbformat": 4,
 "nbformat_minor": 4
}
